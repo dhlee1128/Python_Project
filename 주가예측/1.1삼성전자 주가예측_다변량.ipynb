{
 "cells": [
  {
   "cell_type": "markdown",
   "id": "collectible-galaxy",
   "metadata": {},
   "source": [
    "#### 라이브러리 호출"
   ]
  },
  {
   "cell_type": "code",
   "execution_count": 1,
   "id": "realistic-academy",
   "metadata": {},
   "outputs": [],
   "source": [
    "import datetime\n",
    "import numpy as np\n",
    "import pandas as pd\n",
    "import pandas_datareader.data as pdr\n",
    "from keras.models import Sequential\n",
    "from keras.layers import Dense, LSTM\n",
    "from sklearn.preprocessing import MinMaxScaler\n",
    "from keras.callbacks import EarlyStopping\n",
    "import matplotlib.pyplot as plt\n",
    "from sklearn.metrics import mean_squared_error\n",
    "from sklearn.model_selection import train_test_split"
   ]
  },
  {
   "cell_type": "markdown",
   "id": "civilian-volunteer",
   "metadata": {},
   "source": [
    "#### 데이터 불러오기"
   ]
  },
  {
   "cell_type": "code",
   "execution_count": 2,
   "id": "listed-winning",
   "metadata": {},
   "outputs": [],
   "source": [
    "start = (2000, 1, 1)\n",
    "start = datetime.datetime(*start) \n",
    "# end = datetime.date.today() - datetime.timedelta(1) # 어제 날짜\n",
    "end = datetime.date.today() # 오늘 날짜"
   ]
  },
  {
   "cell_type": "code",
   "execution_count": 3,
   "id": "every-chancellor",
   "metadata": {},
   "outputs": [],
   "source": [
    "df = pdr.DataReader('005930.KS', 'yahoo', start, end) "
   ]
  },
  {
   "cell_type": "code",
   "execution_count": 4,
   "id": "palestinian-tunnel",
   "metadata": {},
   "outputs": [
    {
     "data": {
      "text/html": [
       "<div>\n",
       "<style scoped>\n",
       "    .dataframe tbody tr th:only-of-type {\n",
       "        vertical-align: middle;\n",
       "    }\n",
       "\n",
       "    .dataframe tbody tr th {\n",
       "        vertical-align: top;\n",
       "    }\n",
       "\n",
       "    .dataframe thead th {\n",
       "        text-align: right;\n",
       "    }\n",
       "</style>\n",
       "<table border=\"1\" class=\"dataframe\">\n",
       "  <thead>\n",
       "    <tr style=\"text-align: right;\">\n",
       "      <th></th>\n",
       "      <th>High</th>\n",
       "      <th>Low</th>\n",
       "      <th>Open</th>\n",
       "      <th>Close</th>\n",
       "      <th>Volume</th>\n",
       "      <th>Adj Close</th>\n",
       "    </tr>\n",
       "    <tr>\n",
       "      <th>Date</th>\n",
       "      <th></th>\n",
       "      <th></th>\n",
       "      <th></th>\n",
       "      <th></th>\n",
       "      <th></th>\n",
       "      <th></th>\n",
       "    </tr>\n",
       "  </thead>\n",
       "  <tbody>\n",
       "    <tr>\n",
       "      <th>2000-01-04</th>\n",
       "      <td>6110.0</td>\n",
       "      <td>5660.0</td>\n",
       "      <td>6000.0</td>\n",
       "      <td>6110.0</td>\n",
       "      <td>74195000.0</td>\n",
       "      <td>4740.119629</td>\n",
       "    </tr>\n",
       "    <tr>\n",
       "      <th>2000-01-05</th>\n",
       "      <td>6060.0</td>\n",
       "      <td>5520.0</td>\n",
       "      <td>5800.0</td>\n",
       "      <td>5580.0</td>\n",
       "      <td>74680000.0</td>\n",
       "      <td>4328.947754</td>\n",
       "    </tr>\n",
       "    <tr>\n",
       "      <th>2000-01-06</th>\n",
       "      <td>5780.0</td>\n",
       "      <td>5580.0</td>\n",
       "      <td>5750.0</td>\n",
       "      <td>5620.0</td>\n",
       "      <td>54390000.0</td>\n",
       "      <td>4359.979492</td>\n",
       "    </tr>\n",
       "  </tbody>\n",
       "</table>\n",
       "</div>"
      ],
      "text/plain": [
       "              High     Low    Open   Close      Volume    Adj Close\n",
       "Date                                                               \n",
       "2000-01-04  6110.0  5660.0  6000.0  6110.0  74195000.0  4740.119629\n",
       "2000-01-05  6060.0  5520.0  5800.0  5580.0  74680000.0  4328.947754\n",
       "2000-01-06  5780.0  5580.0  5750.0  5620.0  54390000.0  4359.979492"
      ]
     },
     "execution_count": 4,
     "metadata": {},
     "output_type": "execute_result"
    }
   ],
   "source": [
    "df.head(3)"
   ]
  },
  {
   "cell_type": "code",
   "execution_count": 5,
   "id": "perceived-album",
   "metadata": {
    "scrolled": true
   },
   "outputs": [
    {
     "data": {
      "text/html": [
       "<div>\n",
       "<style scoped>\n",
       "    .dataframe tbody tr th:only-of-type {\n",
       "        vertical-align: middle;\n",
       "    }\n",
       "\n",
       "    .dataframe tbody tr th {\n",
       "        vertical-align: top;\n",
       "    }\n",
       "\n",
       "    .dataframe thead th {\n",
       "        text-align: right;\n",
       "    }\n",
       "</style>\n",
       "<table border=\"1\" class=\"dataframe\">\n",
       "  <thead>\n",
       "    <tr style=\"text-align: right;\">\n",
       "      <th></th>\n",
       "      <th>High</th>\n",
       "      <th>Low</th>\n",
       "      <th>Open</th>\n",
       "      <th>Close</th>\n",
       "      <th>Volume</th>\n",
       "      <th>Adj Close</th>\n",
       "    </tr>\n",
       "    <tr>\n",
       "      <th>Date</th>\n",
       "      <th></th>\n",
       "      <th></th>\n",
       "      <th></th>\n",
       "      <th></th>\n",
       "      <th></th>\n",
       "      <th></th>\n",
       "    </tr>\n",
       "  </thead>\n",
       "  <tbody>\n",
       "    <tr>\n",
       "      <th>2021-04-28</th>\n",
       "      <td>83200.0</td>\n",
       "      <td>82100.0</td>\n",
       "      <td>83200.0</td>\n",
       "      <td>82100.0</td>\n",
       "      <td>15596759.0</td>\n",
       "      <td>82100.0</td>\n",
       "    </tr>\n",
       "    <tr>\n",
       "      <th>2021-04-29</th>\n",
       "      <td>82500.0</td>\n",
       "      <td>81500.0</td>\n",
       "      <td>82400.0</td>\n",
       "      <td>81700.0</td>\n",
       "      <td>20000973.0</td>\n",
       "      <td>81700.0</td>\n",
       "    </tr>\n",
       "    <tr>\n",
       "      <th>2021-04-30</th>\n",
       "      <td>82100.0</td>\n",
       "      <td>81500.0</td>\n",
       "      <td>81900.0</td>\n",
       "      <td>81500.0</td>\n",
       "      <td>17244262.0</td>\n",
       "      <td>81500.0</td>\n",
       "    </tr>\n",
       "  </tbody>\n",
       "</table>\n",
       "</div>"
      ],
      "text/plain": [
       "               High      Low     Open    Close      Volume  Adj Close\n",
       "Date                                                                 \n",
       "2021-04-28  83200.0  82100.0  83200.0  82100.0  15596759.0    82100.0\n",
       "2021-04-29  82500.0  81500.0  82400.0  81700.0  20000973.0    81700.0\n",
       "2021-04-30  82100.0  81500.0  81900.0  81500.0  17244262.0    81500.0"
      ]
     },
     "execution_count": 5,
     "metadata": {},
     "output_type": "execute_result"
    }
   ],
   "source": [
    "df.tail(3)"
   ]
  },
  {
   "cell_type": "markdown",
   "id": "equipped-sauce",
   "metadata": {},
   "source": [
    "#### 데이터 분리\n",
    "* 크게 Train과 Test set으로 나누고\n",
    "* Train set에서 Train과 validation으로 한번 더 구분한다.  \n",
    "\n",
    "#### 데이터 정규화\n",
    "* MinMaxScaler 함수를 사용하여 데이터를 0과 1사이로 변화 -> 정규화\n",
    "* 신경망학습을 쉽고 빠르게 하기 위하여 필요 "
   ]
  },
  {
   "cell_type": "code",
   "execution_count": 6,
   "id": "standard-johns",
   "metadata": {},
   "outputs": [],
   "source": [
    "def make_dataset(data, label, window_size=20):\n",
    "    feature_list = []\n",
    "    label_list = []\n",
    "    for i in range(len(data) - window_size):\n",
    "        feature_list.append(np.array(data.iloc[i: i+window_size]))\n",
    "        label_list.append(np.array(label.iloc[i+window_size]))\n",
    "    return np.array(feature_list), np.array(label_list)"
   ]
  },
  {
   "cell_type": "code",
   "execution_count": 7,
   "id": "secure-comparative",
   "metadata": {},
   "outputs": [],
   "source": [
    "TEST_SIZE = 200 \n",
    "window_size=20"
   ]
  },
  {
   "cell_type": "code",
   "execution_count": 8,
   "id": "enclosed-tokyo",
   "metadata": {},
   "outputs": [],
   "source": [
    "TEST_SIZE = 200 \n",
    "train = df[:-TEST_SIZE]\n",
    "test = df[-TEST_SIZE:]"
   ]
  },
  {
   "cell_type": "code",
   "execution_count": 9,
   "id": "organized-rings",
   "metadata": {},
   "outputs": [],
   "source": [
    "feature_cols = ['High', 'Low', 'Open', 'Volume']\n",
    "label_cols = ['Close']\n",
    "\n",
    "train_feature = train[feature_cols]\n",
    "train_label = train[label_cols]\n",
    "test_feature = test[feature_cols]\n",
    "test_label = test[label_cols]"
   ]
  },
  {
   "cell_type": "code",
   "execution_count": 10,
   "id": "biblical-waste",
   "metadata": {},
   "outputs": [],
   "source": [
    "scaler = MinMaxScaler() # 0~1까지 범위변화\n",
    "train_feature = scaler.fit_transform(train_feature)\n",
    "train_label = scaler.fit_transform(train_label)\n",
    "test_feature = scaler.fit_transform(test_feature)\n",
    "test_label = scaler.fit_transform(test_label)"
   ]
  },
  {
   "cell_type": "code",
   "execution_count": 11,
   "id": "missing-eight",
   "metadata": {},
   "outputs": [],
   "source": [
    "train_feature = pd.DataFrame(train_feature)\n",
    "train_feature.columns = feature_cols\n",
    "train_label = pd.DataFrame(train_label)\n",
    "train_label.columns = label_cols\n",
    "test_feature = pd.DataFrame(test_feature)\n",
    "test_feature.columns = feature_cols\n",
    "test_label = pd.DataFrame(test_label)\n",
    "test_label.columns = label_cols\n"
   ]
  },
  {
   "cell_type": "code",
   "execution_count": 12,
   "id": "stone-indicator",
   "metadata": {},
   "outputs": [],
   "source": [
    "# train dataset\n",
    "train_feature, train_label = make_dataset(train_feature, train_label, \n",
    "                                          window_size)\n",
    "# test dataset (실제 예측 해볼 데이터)\n",
    "test_feature, test_label = make_dataset(test_feature, test_label, \n",
    "                                        window_size)"
   ]
  },
  {
   "cell_type": "code",
   "execution_count": 13,
   "id": "pacific-effects",
   "metadata": {},
   "outputs": [
    {
     "name": "stdout",
     "output_type": "stream",
     "text": [
      "x_train shape : (4108, 20, 4)\n",
      "x_valid shape : (1028, 20, 4)\n"
     ]
    }
   ],
   "source": [
    "# train, validation set\n",
    "x_train, x_valid, y_train, y_valid = train_test_split(train_feature, \n",
    "                                                      train_label, \n",
    "                                                      test_size=0.2)\n",
    "print('x_train shape :', x_train.shape)\n",
    "print('x_valid shape :', x_valid.shape)"
   ]
  },
  {
   "cell_type": "code",
   "execution_count": 14,
   "id": "atlantic-valentine",
   "metadata": {},
   "outputs": [
    {
     "name": "stdout",
     "output_type": "stream",
     "text": [
      "test_feature shape : (180, 20, 4)\n",
      "test_label shape : (180, 1)\n"
     ]
    }
   ],
   "source": [
    "print('test_feature shape :', test_feature.shape)\n",
    "print('test_label shape :', test_label.shape)"
   ]
  },
  {
   "cell_type": "markdown",
   "id": "composed-ordering",
   "metadata": {},
   "source": [
    "#### 모델 생성"
   ]
  },
  {
   "cell_type": "code",
   "execution_count": 15,
   "id": "loving-staff",
   "metadata": {},
   "outputs": [],
   "source": [
    "model = Sequential()\n",
    "model.add(LSTM(16, input_shape = (train_feature.shape[1], \n",
    "               train_feature.shape[2]), \n",
    "               activation = 'relu', \n",
    "               return_sequences=False))\n",
    "model.add(Dense(1))"
   ]
  },
  {
   "cell_type": "markdown",
   "id": "basic-receptor",
   "metadata": {},
   "source": [
    "#### 모델 학습"
   ]
  },
  {
   "cell_type": "code",
   "execution_count": 16,
   "id": "urban-investigator",
   "metadata": {},
   "outputs": [],
   "source": [
    "model.compile(loss='mean_squared_error', optimizer='adam')\n",
    "early_stop = EarlyStopping(monitor='val_loss', patience=5)"
   ]
  },
  {
   "cell_type": "code",
   "execution_count": 17,
   "id": "patient-valuable",
   "metadata": {
    "scrolled": false
   },
   "outputs": [
    {
     "name": "stdout",
     "output_type": "stream",
     "text": [
      "Epoch 1/200\n",
      "257/257 [==============================] - 11s 27ms/step - loss: 0.0144 - val_loss: 6.5093e-04\n",
      "Epoch 2/200\n",
      "257/257 [==============================] - 3s 12ms/step - loss: 4.9115e-04 - val_loss: 1.9500e-04\n",
      "Epoch 3/200\n",
      "257/257 [==============================] - 3s 12ms/step - loss: 2.1297e-04 - val_loss: 1.5042e-04\n",
      "Epoch 4/200\n",
      "257/257 [==============================] - 3s 12ms/step - loss: 1.8904e-04 - val_loss: 1.3698e-04\n",
      "Epoch 5/200\n",
      "257/257 [==============================] - 3s 11ms/step - loss: 1.5538e-04 - val_loss: 1.3018e-04\n",
      "Epoch 6/200\n",
      "257/257 [==============================] - 3s 12ms/step - loss: 1.5314e-04 - val_loss: 1.6185e-04\n",
      "Epoch 7/200\n",
      "257/257 [==============================] - 3s 12ms/step - loss: 1.6613e-04 - val_loss: 1.2150e-04\n",
      "Epoch 8/200\n",
      "257/257 [==============================] - 3s 12ms/step - loss: 1.5405e-04 - val_loss: 1.2958e-04\n",
      "Epoch 9/200\n",
      "257/257 [==============================] - 3s 12ms/step - loss: 1.6544e-04 - val_loss: 1.1829e-04\n",
      "Epoch 10/200\n",
      "257/257 [==============================] - 3s 12ms/step - loss: 1.3486e-04 - val_loss: 1.1118e-04\n",
      "Epoch 11/200\n",
      "257/257 [==============================] - 3s 11ms/step - loss: 1.5479e-04 - val_loss: 1.0956e-04\n",
      "Epoch 12/200\n",
      "257/257 [==============================] - 3s 12ms/step - loss: 1.4727e-04 - val_loss: 1.1429e-04\n",
      "Epoch 13/200\n",
      "257/257 [==============================] - 3s 12ms/step - loss: 1.2531e-04 - val_loss: 1.2603e-04\n",
      "Epoch 14/200\n",
      "257/257 [==============================] - 3s 12ms/step - loss: 1.2688e-04 - val_loss: 1.0148e-04\n",
      "Epoch 15/200\n",
      "257/257 [==============================] - 3s 12ms/step - loss: 1.2394e-04 - val_loss: 1.0610e-04\n",
      "Epoch 16/200\n",
      "257/257 [==============================] - 3s 12ms/step - loss: 1.1219e-04 - val_loss: 9.5469e-05\n",
      "Epoch 17/200\n",
      "257/257 [==============================] - 3s 12ms/step - loss: 1.1530e-04 - val_loss: 1.2862e-04\n",
      "Epoch 18/200\n",
      "257/257 [==============================] - 3s 12ms/step - loss: 1.1558e-04 - val_loss: 1.1163e-04\n",
      "Epoch 19/200\n",
      "257/257 [==============================] - 3s 12ms/step - loss: 1.0840e-04 - val_loss: 9.0872e-05\n",
      "Epoch 20/200\n",
      "257/257 [==============================] - 3s 12ms/step - loss: 1.3015e-04 - val_loss: 9.4730e-05\n",
      "Epoch 21/200\n",
      "257/257 [==============================] - 3s 12ms/step - loss: 1.0517e-04 - val_loss: 8.6943e-05\n",
      "Epoch 22/200\n",
      "257/257 [==============================] - 3s 12ms/step - loss: 1.1085e-04 - val_loss: 9.0652e-05\n",
      "Epoch 23/200\n",
      "257/257 [==============================] - 3s 12ms/step - loss: 1.0276e-04 - val_loss: 8.5211e-05\n",
      "Epoch 24/200\n",
      "257/257 [==============================] - 3s 12ms/step - loss: 9.3726e-05 - val_loss: 8.8232e-05\n",
      "Epoch 25/200\n",
      "257/257 [==============================] - 3s 12ms/step - loss: 9.6717e-05 - val_loss: 8.6415e-05\n",
      "Epoch 26/200\n",
      "257/257 [==============================] - 3s 12ms/step - loss: 1.0223e-04 - val_loss: 9.1129e-05\n",
      "Epoch 27/200\n",
      "257/257 [==============================] - 3s 12ms/step - loss: 1.0503e-04 - val_loss: 9.5214e-05\n",
      "Epoch 28/200\n",
      "257/257 [==============================] - 3s 12ms/step - loss: 1.0447e-04 - val_loss: 1.1762e-04\n"
     ]
    }
   ],
   "source": [
    "history = model.fit(x_train, y_train, \n",
    "                    epochs=200, \n",
    "                    batch_size=16, \n",
    "                    validation_data=(x_valid, y_valid),\n",
    "                    callbacks=[early_stop]\n",
    "                    )"
   ]
  },
  {
   "cell_type": "code",
   "execution_count": 18,
   "id": "terminal-choir",
   "metadata": {},
   "outputs": [],
   "source": [
    "# 예측\n",
    "pred = model.predict(test_feature)"
   ]
  },
  {
   "cell_type": "markdown",
   "id": "canadian-learning",
   "metadata": {},
   "source": [
    "#### 데이터 시각화"
   ]
  },
  {
   "cell_type": "code",
   "execution_count": 19,
   "id": "heard-thompson",
   "metadata": {
    "scrolled": false
   },
   "outputs": [
    {
     "data": {
      "image/png": "[encoded data removed]",
      "text/plain": [
       "<Figure size 1008x648 with 1 Axes>"
      ]
     },
     "metadata": {
      "needs_background": "light"
     },
     "output_type": "display_data"
    }
   ],
   "source": [
    "plt.figure(figsize=(14, 9))\n",
    "plt.plot(test_label, label='actual')\n",
    "plt.plot(pred, label='prediction')\n",
    "plt.legend()\n",
    "plt.show()"
   ]
  },
  {
   "cell_type": "code",
   "execution_count": 20,
   "id": "soviet-infrared",
   "metadata": {},
   "outputs": [
    {
     "name": "stdout",
     "output_type": "stream",
     "text": [
      "0.0020597508367409946\n"
     ]
    }
   ],
   "source": [
    "# 회귀 모델에서의 성능평가는 mse 사용\n",
    "\n",
    "from sklearn.metrics import mean_squared_error\n",
    "\n",
    "mse = mean_squared_error(test_label, pred)\n",
    "print(mse)"
   ]
  },
  {
   "cell_type": "markdown",
   "id": "failing-ratio",
   "metadata": {},
   "source": [
    "#### 예측"
   ]
  },
  {
   "cell_type": "code",
   "execution_count": 21,
   "id": "given-juvenile",
   "metadata": {},
   "outputs": [],
   "source": [
    "pred = scaler.inverse_transform(pred)"
   ]
  },
  {
   "cell_type": "code",
   "execution_count": 22,
   "id": "cooperative-instrumentation",
   "metadata": {},
   "outputs": [],
   "source": [
    "test_label = scaler.inverse_transform(test_label)"
   ]
  },
  {
   "cell_type": "code",
   "execution_count": 23,
   "id": "behind-regular",
   "metadata": {},
   "outputs": [
    {
     "name": "stdout",
     "output_type": "stream",
     "text": [
      "[81633.85]\n",
      "하락할 것입니다.\n"
     ]
    }
   ],
   "source": [
    "print(pred[-1])\n",
    "if pred[-1] > test_label[-2]:\n",
    "    print('상승할 것입니다.')\n",
    "elif pred[-1] == test_label[-2]:\n",
    "    print('변동이 없을 것입니다.')\n",
    "else:\n",
    "    print('하락할 것입니다.')"
   ]
  },
  {
   "cell_type": "code",
   "execution_count": 24,
   "id": "social-adult",
   "metadata": {},
   "outputs": [
    {
     "name": "stdout",
     "output_type": "stream",
     "text": [
      "[81500.]\n",
      "하락하였습니다.\n"
     ]
    }
   ],
   "source": [
    "print(test_label[-1])\n",
    "if test_label[-1] > test_label[-2]:\n",
    "    print('상승하였습니다.')\n",
    "elif test_label[-1] == test_label[-2]:\n",
    "    print('변동이 없습니다.')\n",
    "else:\n",
    "    print('하락하였습니다.')"
   ]
  },
  {
   "cell_type": "code",
   "execution_count": null,
   "id": "imported-monaco",
   "metadata": {},
   "outputs": [],
   "source": []
  }
 ],
 "metadata": {
  "kernelspec": {
   "display_name": "Python 3",
   "language": "python",
   "name": "python3"
  },
  "language_info": {
   "codemirror_mode": {
    "name": "ipython",
    "version": 3
   },
   "file_extension": ".py",
   "mimetype": "text/x-python",
   "name": "python",
   "nbconvert_exporter": "python",
   "pygments_lexer": "ipython3",
   "version": "3.8.5"
  }
 },
 "nbformat": 4,
 "nbformat_minor": 5
}
