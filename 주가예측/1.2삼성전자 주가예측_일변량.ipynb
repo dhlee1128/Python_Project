{
 "cells": [
  {
   "cell_type": "code",
   "execution_count": 1,
   "id": "fifty-amber",
   "metadata": {},
   "outputs": [],
   "source": [
    "import os\n",
    "import datetime\n",
    "import numpy as np\n",
    "import pandas as pd\n",
    "import pandas_datareader.data as pdr\n",
    "from keras.models import Sequential\n",
    "from keras.layers import Dense, LSTM\n",
    "from sklearn.preprocessing import MinMaxScaler\n",
    "import matplotlib.pyplot as plt\n",
    "import math\n",
    "from sklearn.metrics import mean_squared_error\n",
    "from sklearn.model_selection import train_test_split"
   ]
  },
  {
   "cell_type": "code",
   "execution_count": 2,
   "id": "alone-interim",
   "metadata": {},
   "outputs": [],
   "source": [
    "start = (2000, 1, 1)\n",
    "start = datetime.datetime(*start) \n",
    "# end = datetime.date.today() - datetime.timedelta(1) # 어제 날짜\n",
    "end = datetime.date.today()"
   ]
  },
  {
   "cell_type": "code",
   "execution_count": 3,
   "id": "grateful-background",
   "metadata": {},
   "outputs": [
    {
     "data": {
      "text/html": [
       "<div>\n",
       "<style scoped>\n",
       "    .dataframe tbody tr th:only-of-type {\n",
       "        vertical-align: middle;\n",
       "    }\n",
       "\n",
       "    .dataframe tbody tr th {\n",
       "        vertical-align: top;\n",
       "    }\n",
       "\n",
       "    .dataframe thead th {\n",
       "        text-align: right;\n",
       "    }\n",
       "</style>\n",
       "<table border=\"1\" class=\"dataframe\">\n",
       "  <thead>\n",
       "    <tr style=\"text-align: right;\">\n",
       "      <th></th>\n",
       "      <th>High</th>\n",
       "      <th>Low</th>\n",
       "      <th>Open</th>\n",
       "      <th>Close</th>\n",
       "      <th>Volume</th>\n",
       "      <th>Adj Close</th>\n",
       "    </tr>\n",
       "    <tr>\n",
       "      <th>Date</th>\n",
       "      <th></th>\n",
       "      <th></th>\n",
       "      <th></th>\n",
       "      <th></th>\n",
       "      <th></th>\n",
       "      <th></th>\n",
       "    </tr>\n",
       "  </thead>\n",
       "  <tbody>\n",
       "    <tr>\n",
       "      <th>2000-01-04</th>\n",
       "      <td>6110.0</td>\n",
       "      <td>5660.0</td>\n",
       "      <td>6000.0</td>\n",
       "      <td>6110.0</td>\n",
       "      <td>74195000.0</td>\n",
       "      <td>4761.183105</td>\n",
       "    </tr>\n",
       "    <tr>\n",
       "      <th>2000-01-05</th>\n",
       "      <td>6060.0</td>\n",
       "      <td>5520.0</td>\n",
       "      <td>5800.0</td>\n",
       "      <td>5580.0</td>\n",
       "      <td>74680000.0</td>\n",
       "      <td>4348.184082</td>\n",
       "    </tr>\n",
       "    <tr>\n",
       "      <th>2000-01-06</th>\n",
       "      <td>5780.0</td>\n",
       "      <td>5580.0</td>\n",
       "      <td>5750.0</td>\n",
       "      <td>5620.0</td>\n",
       "      <td>54390000.0</td>\n",
       "      <td>4379.354004</td>\n",
       "    </tr>\n",
       "    <tr>\n",
       "      <th>2000-01-07</th>\n",
       "      <td>5670.0</td>\n",
       "      <td>5360.0</td>\n",
       "      <td>5560.0</td>\n",
       "      <td>5540.0</td>\n",
       "      <td>40305000.0</td>\n",
       "      <td>4317.015625</td>\n",
       "    </tr>\n",
       "    <tr>\n",
       "      <th>2000-01-10</th>\n",
       "      <td>5770.0</td>\n",
       "      <td>5580.0</td>\n",
       "      <td>5600.0</td>\n",
       "      <td>5770.0</td>\n",
       "      <td>46880000.0</td>\n",
       "      <td>4496.240723</td>\n",
       "    </tr>\n",
       "  </tbody>\n",
       "</table>\n",
       "</div>"
      ],
      "text/plain": [
       "              High     Low    Open   Close      Volume    Adj Close\n",
       "Date                                                               \n",
       "2000-01-04  6110.0  5660.0  6000.0  6110.0  74195000.0  4761.183105\n",
       "2000-01-05  6060.0  5520.0  5800.0  5580.0  74680000.0  4348.184082\n",
       "2000-01-06  5780.0  5580.0  5750.0  5620.0  54390000.0  4379.354004\n",
       "2000-01-07  5670.0  5360.0  5560.0  5540.0  40305000.0  4317.015625\n",
       "2000-01-10  5770.0  5580.0  5600.0  5770.0  46880000.0  4496.240723"
      ]
     },
     "execution_count": 3,
     "metadata": {},
     "output_type": "execute_result"
    }
   ],
   "source": [
    "df = pdr.DataReader('005930.KS', 'yahoo', start, end)\n",
    "df.head()"
   ]
  },
  {
   "cell_type": "code",
   "execution_count": 4,
   "id": "finished-central",
   "metadata": {},
   "outputs": [
    {
     "data": {
      "text/html": [
       "<div>\n",
       "<style scoped>\n",
       "    .dataframe tbody tr th:only-of-type {\n",
       "        vertical-align: middle;\n",
       "    }\n",
       "\n",
       "    .dataframe tbody tr th {\n",
       "        vertical-align: top;\n",
       "    }\n",
       "\n",
       "    .dataframe thead th {\n",
       "        text-align: right;\n",
       "    }\n",
       "</style>\n",
       "<table border=\"1\" class=\"dataframe\">\n",
       "  <thead>\n",
       "    <tr style=\"text-align: right;\">\n",
       "      <th></th>\n",
       "      <th>High</th>\n",
       "      <th>Low</th>\n",
       "      <th>Open</th>\n",
       "      <th>Close</th>\n",
       "      <th>Volume</th>\n",
       "      <th>Adj Close</th>\n",
       "    </tr>\n",
       "    <tr>\n",
       "      <th>Date</th>\n",
       "      <th></th>\n",
       "      <th></th>\n",
       "      <th></th>\n",
       "      <th></th>\n",
       "      <th></th>\n",
       "      <th></th>\n",
       "    </tr>\n",
       "  </thead>\n",
       "  <tbody>\n",
       "    <tr>\n",
       "      <th>2021-04-23</th>\n",
       "      <td>82900.0</td>\n",
       "      <td>81600.0</td>\n",
       "      <td>81900.0</td>\n",
       "      <td>82800.0</td>\n",
       "      <td>17805080.0</td>\n",
       "      <td>82800.0</td>\n",
       "    </tr>\n",
       "    <tr>\n",
       "      <th>2021-04-26</th>\n",
       "      <td>83500.0</td>\n",
       "      <td>82600.0</td>\n",
       "      <td>82900.0</td>\n",
       "      <td>83500.0</td>\n",
       "      <td>15489938.0</td>\n",
       "      <td>83500.0</td>\n",
       "    </tr>\n",
       "    <tr>\n",
       "      <th>2021-04-27</th>\n",
       "      <td>83300.0</td>\n",
       "      <td>82500.0</td>\n",
       "      <td>83200.0</td>\n",
       "      <td>82900.0</td>\n",
       "      <td>12941533.0</td>\n",
       "      <td>82900.0</td>\n",
       "    </tr>\n",
       "    <tr>\n",
       "      <th>2021-04-28</th>\n",
       "      <td>83200.0</td>\n",
       "      <td>82100.0</td>\n",
       "      <td>83200.0</td>\n",
       "      <td>82100.0</td>\n",
       "      <td>15596759.0</td>\n",
       "      <td>82100.0</td>\n",
       "    </tr>\n",
       "    <tr>\n",
       "      <th>2021-04-29</th>\n",
       "      <td>82500.0</td>\n",
       "      <td>81500.0</td>\n",
       "      <td>82400.0</td>\n",
       "      <td>81700.0</td>\n",
       "      <td>19904834.0</td>\n",
       "      <td>81700.0</td>\n",
       "    </tr>\n",
       "  </tbody>\n",
       "</table>\n",
       "</div>"
      ],
      "text/plain": [
       "               High      Low     Open    Close      Volume  Adj Close\n",
       "Date                                                                 \n",
       "2021-04-23  82900.0  81600.0  81900.0  82800.0  17805080.0    82800.0\n",
       "2021-04-26  83500.0  82600.0  82900.0  83500.0  15489938.0    83500.0\n",
       "2021-04-27  83300.0  82500.0  83200.0  82900.0  12941533.0    82900.0\n",
       "2021-04-28  83200.0  82100.0  83200.0  82100.0  15596759.0    82100.0\n",
       "2021-04-29  82500.0  81500.0  82400.0  81700.0  19904834.0    81700.0"
      ]
     },
     "execution_count": 4,
     "metadata": {},
     "output_type": "execute_result"
    }
   ],
   "source": [
    "df.tail()"
   ]
  },
  {
   "cell_type": "code",
   "execution_count": 5,
   "id": "recent-manual",
   "metadata": {},
   "outputs": [],
   "source": [
    "look_back = 20\n",
    "def create_dataset(dataset, look_back):\n",
    "    dataX, dataY = [], []\n",
    "    for i in range(len(dataset)-look_back):\n",
    "        a = dataset[i : (i+look_back)]\n",
    "        dataX.append(a)\n",
    "        dataY.append(dataset[i+look_back])\n",
    "    return np.array(dataX), np.array(dataY)"
   ]
  },
  {
   "cell_type": "code",
   "execution_count": 6,
   "id": "after-terror",
   "metadata": {},
   "outputs": [
    {
     "name": "stdout",
     "output_type": "stream",
     "text": [
      "[ 6110.  5580.  5620. ... 82900. 82100. 81700.]\n"
     ]
    }
   ],
   "source": [
    "nparr = df['Close'].values[0:] \n",
    "nparr.astype('float32')\n",
    "print(nparr)"
   ]
  },
  {
   "cell_type": "code",
   "execution_count": 7,
   "id": "worth-fisher",
   "metadata": {},
   "outputs": [],
   "source": [
    "scaler = MinMaxScaler(feature_range=(0, 1))\n",
    "nparr = nparr.reshape(-1, 1)\n",
    "nptf = scaler.fit_transform(nparr)"
   ]
  },
  {
   "cell_type": "code",
   "execution_count": 8,
   "id": "metric-flush",
   "metadata": {},
   "outputs": [
    {
     "data": {
      "text/plain": [
       "5355"
      ]
     },
     "execution_count": 8,
     "metadata": {},
     "output_type": "execute_result"
    }
   ],
   "source": [
    "len(nptf)"
   ]
  },
  {
   "cell_type": "code",
   "execution_count": 9,
   "id": "peripheral-chemical",
   "metadata": {},
   "outputs": [],
   "source": [
    "TEST_SIZE = 200 \n",
    "train = nptf[:-TEST_SIZE]\n",
    "test = nptf[-TEST_SIZE:]"
   ]
  },
  {
   "cell_type": "code",
   "execution_count": 10,
   "id": "banner-onion",
   "metadata": {},
   "outputs": [
    {
     "data": {
      "text/plain": [
       "5155"
      ]
     },
     "execution_count": 10,
     "metadata": {},
     "output_type": "execute_result"
    }
   ],
   "source": [
    "len(train)"
   ]
  },
  {
   "cell_type": "code",
   "execution_count": 11,
   "id": "lovely-comparative",
   "metadata": {},
   "outputs": [
    {
     "data": {
      "text/plain": [
       "200"
      ]
     },
     "execution_count": 11,
     "metadata": {},
     "output_type": "execute_result"
    }
   ],
   "source": [
    "len(test)"
   ]
  },
  {
   "cell_type": "code",
   "execution_count": 12,
   "id": "logical-variable",
   "metadata": {},
   "outputs": [],
   "source": [
    "trainX, trainY = create_dataset(train, look_back)"
   ]
  },
  {
   "cell_type": "code",
   "execution_count": 13,
   "id": "exact-reserve",
   "metadata": {},
   "outputs": [],
   "source": [
    "testX, testY = create_dataset(test, look_back)"
   ]
  },
  {
   "cell_type": "code",
   "execution_count": 14,
   "id": "rural-belle",
   "metadata": {},
   "outputs": [],
   "source": [
    "trainX = np.reshape(trainX, (trainX.shape[0], 1, trainX.shape[1]))"
   ]
  },
  {
   "cell_type": "code",
   "execution_count": 15,
   "id": "extreme-welding",
   "metadata": {},
   "outputs": [],
   "source": [
    "testX = np.reshape(testX, (testX.shape[0], 1, testX.shape[1]))"
   ]
  },
  {
   "cell_type": "code",
   "execution_count": 16,
   "id": "chicken-scholar",
   "metadata": {},
   "outputs": [
    {
     "data": {
      "text/plain": [
       "(5135, 1, 20)"
      ]
     },
     "execution_count": 16,
     "metadata": {},
     "output_type": "execute_result"
    }
   ],
   "source": [
    "trainX.shape"
   ]
  },
  {
   "cell_type": "code",
   "execution_count": 17,
   "id": "intense-azerbaijan",
   "metadata": {},
   "outputs": [
    {
     "name": "stdout",
     "output_type": "stream",
     "text": [
      "x_train shape : (4108, 1, 20)\n",
      "x_valid shape : (1027, 1, 20)\n"
     ]
    }
   ],
   "source": [
    "x_train, x_valid, y_train, y_valid = train_test_split(trainX, \n",
    "                                                      trainY, \n",
    "                                                      test_size=0.2)\n",
    "print('x_train shape :', x_train.shape)\n",
    "print('x_valid shape :', x_valid.shape)"
   ]
  },
  {
   "cell_type": "code",
   "execution_count": 18,
   "id": "removable-polls",
   "metadata": {},
   "outputs": [
    {
     "name": "stdout",
     "output_type": "stream",
     "text": [
      "testX shape : (180, 1, 20)\n",
      "testY shape : (180, 1)\n"
     ]
    }
   ],
   "source": [
    "print('testX shape :', testX.shape)\n",
    "print('testY shape :', testY.shape)"
   ]
  },
  {
   "cell_type": "code",
   "execution_count": 19,
   "id": "tired-yahoo",
   "metadata": {
    "scrolled": true
   },
   "outputs": [
    {
     "name": "stdout",
     "output_type": "stream",
     "text": [
      "Model: \"sequential\"\n",
      "_________________________________________________________________\n",
      "Layer (type)                 Output Shape              Param #   \n",
      "=================================================================\n",
      "lstm (LSTM)                  (None, 4)                 400       \n",
      "_________________________________________________________________\n",
      "dense (Dense)                (None, 1)                 5         \n",
      "=================================================================\n",
      "Total params: 405\n",
      "Trainable params: 405\n",
      "Non-trainable params: 0\n",
      "_________________________________________________________________\n"
     ]
    }
   ],
   "source": [
    "model = Sequential()\n",
    "model.add(LSTM(4, input_shape=(1, look_back)))\n",
    "model.add(Dense(1)) \n",
    "model.compile(loss='mean_squared_error', optimizer='adam')\n",
    "model.summary()"
   ]
  },
  {
   "cell_type": "code",
   "execution_count": 20,
   "id": "north-introduction",
   "metadata": {},
   "outputs": [
    {
     "name": "stdout",
     "output_type": "stream",
     "text": [
      "Epoch 1/20\n",
      "4108/4108 [==============================] - 19s 4ms/step - loss: 5.4080e-04 - val_loss: 1.1332e-04\n",
      "Epoch 2/20\n",
      "4108/4108 [==============================] - 11s 3ms/step - loss: 1.3477e-04 - val_loss: 1.0724e-04\n",
      "Epoch 3/20\n",
      "4108/4108 [==============================] - 11s 3ms/step - loss: 1.1416e-04 - val_loss: 5.8971e-05\n",
      "Epoch 4/20\n",
      "4108/4108 [==============================] - 11s 3ms/step - loss: 8.4254e-05 - val_loss: 1.2796e-04\n",
      "Epoch 5/20\n",
      "4108/4108 [==============================] - 11s 3ms/step - loss: 9.0430e-05 - val_loss: 5.5287e-05\n",
      "Epoch 6/20\n",
      "4108/4108 [==============================] - 11s 3ms/step - loss: 8.1058e-05 - val_loss: 7.0917e-05\n",
      "Epoch 7/20\n",
      "4108/4108 [==============================] - 11s 3ms/step - loss: 7.3121e-05 - val_loss: 7.9925e-05\n",
      "Epoch 8/20\n",
      "4108/4108 [==============================] - 11s 3ms/step - loss: 8.8116e-05 - val_loss: 6.3868e-05\n",
      "Epoch 9/20\n",
      "4108/4108 [==============================] - 11s 3ms/step - loss: 6.5823e-05 - val_loss: 4.9074e-05\n",
      "Epoch 10/20\n",
      "4108/4108 [==============================] - 11s 3ms/step - loss: 7.1903e-05 - val_loss: 4.4723e-05\n",
      "Epoch 11/20\n",
      "4108/4108 [==============================] - 11s 3ms/step - loss: 6.4023e-05 - val_loss: 5.4511e-05\n",
      "Epoch 12/20\n",
      "4108/4108 [==============================] - 11s 3ms/step - loss: 5.8303e-05 - val_loss: 4.4829e-05\n",
      "Epoch 13/20\n",
      "4108/4108 [==============================] - 11s 3ms/step - loss: 5.7105e-05 - val_loss: 1.3785e-04\n",
      "Epoch 14/20\n",
      "4108/4108 [==============================] - 11s 3ms/step - loss: 5.4999e-05 - val_loss: 1.0551e-04\n",
      "Epoch 15/20\n",
      "4108/4108 [==============================] - 11s 3ms/step - loss: 6.5776e-05 - val_loss: 5.0379e-05\n",
      "Epoch 16/20\n",
      "4108/4108 [==============================] - 11s 3ms/step - loss: 6.4777e-05 - val_loss: 8.8318e-05\n",
      "Epoch 17/20\n",
      "4108/4108 [==============================] - 11s 3ms/step - loss: 5.7061e-05 - val_loss: 5.4301e-05\n",
      "Epoch 18/20\n",
      "4108/4108 [==============================] - 11s 3ms/step - loss: 5.6971e-05 - val_loss: 8.8376e-05\n",
      "Epoch 19/20\n",
      "4108/4108 [==============================] - 11s 3ms/step - loss: 6.1154e-05 - val_loss: 8.4140e-05\n",
      "Epoch 20/20\n",
      "4108/4108 [==============================] - 12s 3ms/step - loss: 5.8452e-05 - val_loss: 7.3319e-05\n"
     ]
    },
    {
     "data": {
      "text/plain": [
       "<tensorflow.python.keras.callbacks.History at 0x157c90089a0>"
      ]
     },
     "execution_count": 20,
     "metadata": {},
     "output_type": "execute_result"
    }
   ],
   "source": [
    "EPOCHS = 20\n",
    "\n",
    "model.fit(x_train, y_train, \n",
    "          epochs=EPOCHS, \n",
    "          batch_size=1,\n",
    "          validation_data=(x_valid, y_valid),\n",
    "          verbose=1)"
   ]
  },
  {
   "cell_type": "code",
   "execution_count": 21,
   "id": "floating-stockholm",
   "metadata": {},
   "outputs": [],
   "source": [
    "# 예측\n",
    "pred = model.predict(testX)"
   ]
  },
  {
   "cell_type": "code",
   "execution_count": 22,
   "id": "extraordinary-saver",
   "metadata": {},
   "outputs": [
    {
     "data": {
      "image/png": "[encoded data removed]",
      "text/plain": [
       "<Figure size 1008x648 with 1 Axes>"
      ]
     },
     "metadata": {
      "needs_background": "light"
     },
     "output_type": "display_data"
    }
   ],
   "source": [
    "plt.figure(figsize=(14, 9))\n",
    "plt.plot(testY, label='actual')\n",
    "plt.plot(pred, label='prediction')\n",
    "plt.legend()\n",
    "plt.show()"
   ]
  },
  {
   "cell_type": "code",
   "execution_count": 23,
   "id": "viral-season",
   "metadata": {
    "scrolled": false
   },
   "outputs": [
    {
     "name": "stdout",
     "output_type": "stream",
     "text": [
      "오늘 예측 값은 : [[74221.164]]\n"
     ]
    }
   ],
   "source": [
    "lastX = testX[-1]\n",
    "lastX = np.reshape(lastX, (1, 1, look_back))\n",
    "lastY = model.predict(lastX)\n",
    "lastY = scaler.inverse_transform(lastY)\n",
    "print(\"오늘 예측 값은 :\", lastY)"
   ]
  },
  {
   "cell_type": "code",
   "execution_count": 24,
   "id": "neutral-empire",
   "metadata": {},
   "outputs": [
    {
     "name": "stdout",
     "output_type": "stream",
     "text": [
      "오늘 값은\n"
     ]
    },
    {
     "data": {
      "text/plain": [
       "array([81700.])"
      ]
     },
     "execution_count": 24,
     "metadata": {},
     "output_type": "execute_result"
    }
   ],
   "source": [
    "print(\"오늘 값은\")\n",
    "nparr[-1]"
   ]
  },
  {
   "cell_type": "code",
   "execution_count": 25,
   "id": "colored-sigma",
   "metadata": {},
   "outputs": [
    {
     "name": "stdout",
     "output_type": "stream",
     "text": [
      "내일 예측 값은 : [[73982.09]]\n"
     ]
    }
   ],
   "source": [
    "lastX = nptf[-look_back:]\n",
    "lastX = np.reshape(lastX, (1, 1, look_back))\n",
    "lastY = model.predict(lastX)\n",
    "lastY = scaler.inverse_transform(lastY)\n",
    "print(\"내일 예측 값은 :\", lastY)"
   ]
  },
  {
   "cell_type": "code",
   "execution_count": null,
   "id": "final-massage",
   "metadata": {},
   "outputs": [],
   "source": []
  }
 ],
 "metadata": {
  "kernelspec": {
   "display_name": "Python 3",
   "language": "python",
   "name": "python3"
  },
  "language_info": {
   "codemirror_mode": {
    "name": "ipython",
    "version": 3
   },
   "file_extension": ".py",
   "mimetype": "text/x-python",
   "name": "python",
   "nbconvert_exporter": "python",
   "pygments_lexer": "ipython3",
   "version": "3.8.5"
  }
 },
 "nbformat": 4,
 "nbformat_minor": 5
}
