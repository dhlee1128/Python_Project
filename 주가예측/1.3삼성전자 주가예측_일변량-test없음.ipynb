{
 "cells": [
  {
   "cell_type": "code",
   "execution_count": 1,
   "id": "fifty-amber",
   "metadata": {},
   "outputs": [],
   "source": [
    "import os\n",
    "import datetime\n",
    "import numpy as np\n",
    "import pandas as pd\n",
    "import pandas_datareader.data as pdr\n",
    "from keras.models import Sequential\n",
    "from keras.layers import Dense, LSTM\n",
    "from sklearn.preprocessing import MinMaxScaler\n",
    "import matplotlib.pyplot as plt\n",
    "import math\n",
    "from sklearn.metrics import mean_squared_error\n",
    "from sklearn.model_selection import train_test_split"
   ]
  },
  {
   "cell_type": "code",
   "execution_count": 2,
   "id": "alone-interim",
   "metadata": {},
   "outputs": [],
   "source": [
    "start = (2000, 1, 1)\n",
    "start = datetime.datetime(*start) \n",
    "# end = datetime.date.today() - datetime.timedelta(1) # 어제 날짜\n",
    "end = datetime.date.today()"
   ]
  },
  {
   "cell_type": "code",
   "execution_count": 3,
   "id": "grateful-background",
   "metadata": {},
   "outputs": [
    {
     "data": {
      "text/html": [
       "<div>\n",
       "<style scoped>\n",
       "    .dataframe tbody tr th:only-of-type {\n",
       "        vertical-align: middle;\n",
       "    }\n",
       "\n",
       "    .dataframe tbody tr th {\n",
       "        vertical-align: top;\n",
       "    }\n",
       "\n",
       "    .dataframe thead th {\n",
       "        text-align: right;\n",
       "    }\n",
       "</style>\n",
       "<table border=\"1\" class=\"dataframe\">\n",
       "  <thead>\n",
       "    <tr style=\"text-align: right;\">\n",
       "      <th></th>\n",
       "      <th>High</th>\n",
       "      <th>Low</th>\n",
       "      <th>Open</th>\n",
       "      <th>Close</th>\n",
       "      <th>Volume</th>\n",
       "      <th>Adj Close</th>\n",
       "    </tr>\n",
       "    <tr>\n",
       "      <th>Date</th>\n",
       "      <th></th>\n",
       "      <th></th>\n",
       "      <th></th>\n",
       "      <th></th>\n",
       "      <th></th>\n",
       "      <th></th>\n",
       "    </tr>\n",
       "  </thead>\n",
       "  <tbody>\n",
       "    <tr>\n",
       "      <th>2000-01-04</th>\n",
       "      <td>6110.0</td>\n",
       "      <td>5660.0</td>\n",
       "      <td>6000.0</td>\n",
       "      <td>6110.0</td>\n",
       "      <td>74195000.0</td>\n",
       "      <td>4740.119629</td>\n",
       "    </tr>\n",
       "    <tr>\n",
       "      <th>2000-01-05</th>\n",
       "      <td>6060.0</td>\n",
       "      <td>5520.0</td>\n",
       "      <td>5800.0</td>\n",
       "      <td>5580.0</td>\n",
       "      <td>74680000.0</td>\n",
       "      <td>4328.947754</td>\n",
       "    </tr>\n",
       "    <tr>\n",
       "      <th>2000-01-06</th>\n",
       "      <td>5780.0</td>\n",
       "      <td>5580.0</td>\n",
       "      <td>5750.0</td>\n",
       "      <td>5620.0</td>\n",
       "      <td>54390000.0</td>\n",
       "      <td>4359.979492</td>\n",
       "    </tr>\n",
       "    <tr>\n",
       "      <th>2000-01-07</th>\n",
       "      <td>5670.0</td>\n",
       "      <td>5360.0</td>\n",
       "      <td>5560.0</td>\n",
       "      <td>5540.0</td>\n",
       "      <td>40305000.0</td>\n",
       "      <td>4297.916992</td>\n",
       "    </tr>\n",
       "    <tr>\n",
       "      <th>2000-01-10</th>\n",
       "      <td>5770.0</td>\n",
       "      <td>5580.0</td>\n",
       "      <td>5600.0</td>\n",
       "      <td>5770.0</td>\n",
       "      <td>46880000.0</td>\n",
       "      <td>4476.349121</td>\n",
       "    </tr>\n",
       "  </tbody>\n",
       "</table>\n",
       "</div>"
      ],
      "text/plain": [
       "              High     Low    Open   Close      Volume    Adj Close\n",
       "Date                                                               \n",
       "2000-01-04  6110.0  5660.0  6000.0  6110.0  74195000.0  4740.119629\n",
       "2000-01-05  6060.0  5520.0  5800.0  5580.0  74680000.0  4328.947754\n",
       "2000-01-06  5780.0  5580.0  5750.0  5620.0  54390000.0  4359.979492\n",
       "2000-01-07  5670.0  5360.0  5560.0  5540.0  40305000.0  4297.916992\n",
       "2000-01-10  5770.0  5580.0  5600.0  5770.0  46880000.0  4476.349121"
      ]
     },
     "execution_count": 3,
     "metadata": {},
     "output_type": "execute_result"
    }
   ],
   "source": [
    "df = pdr.DataReader('005930.KS', 'yahoo', start, end)\n",
    "df.head()"
   ]
  },
  {
   "cell_type": "code",
   "execution_count": 4,
   "id": "finished-central",
   "metadata": {},
   "outputs": [
    {
     "data": {
      "text/html": [
       "<div>\n",
       "<style scoped>\n",
       "    .dataframe tbody tr th:only-of-type {\n",
       "        vertical-align: middle;\n",
       "    }\n",
       "\n",
       "    .dataframe tbody tr th {\n",
       "        vertical-align: top;\n",
       "    }\n",
       "\n",
       "    .dataframe thead th {\n",
       "        text-align: right;\n",
       "    }\n",
       "</style>\n",
       "<table border=\"1\" class=\"dataframe\">\n",
       "  <thead>\n",
       "    <tr style=\"text-align: right;\">\n",
       "      <th></th>\n",
       "      <th>High</th>\n",
       "      <th>Low</th>\n",
       "      <th>Open</th>\n",
       "      <th>Close</th>\n",
       "      <th>Volume</th>\n",
       "      <th>Adj Close</th>\n",
       "    </tr>\n",
       "    <tr>\n",
       "      <th>Date</th>\n",
       "      <th></th>\n",
       "      <th></th>\n",
       "      <th></th>\n",
       "      <th></th>\n",
       "      <th></th>\n",
       "      <th></th>\n",
       "    </tr>\n",
       "  </thead>\n",
       "  <tbody>\n",
       "    <tr>\n",
       "      <th>2021-04-26</th>\n",
       "      <td>83500.0</td>\n",
       "      <td>82600.0</td>\n",
       "      <td>82900.0</td>\n",
       "      <td>83500.0</td>\n",
       "      <td>15489938.0</td>\n",
       "      <td>83500.0</td>\n",
       "    </tr>\n",
       "    <tr>\n",
       "      <th>2021-04-27</th>\n",
       "      <td>83300.0</td>\n",
       "      <td>82500.0</td>\n",
       "      <td>83200.0</td>\n",
       "      <td>82900.0</td>\n",
       "      <td>12941533.0</td>\n",
       "      <td>82900.0</td>\n",
       "    </tr>\n",
       "    <tr>\n",
       "      <th>2021-04-28</th>\n",
       "      <td>83200.0</td>\n",
       "      <td>82100.0</td>\n",
       "      <td>83200.0</td>\n",
       "      <td>82100.0</td>\n",
       "      <td>15596759.0</td>\n",
       "      <td>82100.0</td>\n",
       "    </tr>\n",
       "    <tr>\n",
       "      <th>2021-04-29</th>\n",
       "      <td>82500.0</td>\n",
       "      <td>81500.0</td>\n",
       "      <td>82400.0</td>\n",
       "      <td>81700.0</td>\n",
       "      <td>20000973.0</td>\n",
       "      <td>81700.0</td>\n",
       "    </tr>\n",
       "    <tr>\n",
       "      <th>2021-04-30</th>\n",
       "      <td>82100.0</td>\n",
       "      <td>81500.0</td>\n",
       "      <td>81900.0</td>\n",
       "      <td>81500.0</td>\n",
       "      <td>17244262.0</td>\n",
       "      <td>81500.0</td>\n",
       "    </tr>\n",
       "  </tbody>\n",
       "</table>\n",
       "</div>"
      ],
      "text/plain": [
       "               High      Low     Open    Close      Volume  Adj Close\n",
       "Date                                                                 \n",
       "2021-04-26  83500.0  82600.0  82900.0  83500.0  15489938.0    83500.0\n",
       "2021-04-27  83300.0  82500.0  83200.0  82900.0  12941533.0    82900.0\n",
       "2021-04-28  83200.0  82100.0  83200.0  82100.0  15596759.0    82100.0\n",
       "2021-04-29  82500.0  81500.0  82400.0  81700.0  20000973.0    81700.0\n",
       "2021-04-30  82100.0  81500.0  81900.0  81500.0  17244262.0    81500.0"
      ]
     },
     "execution_count": 4,
     "metadata": {},
     "output_type": "execute_result"
    }
   ],
   "source": [
    "df.tail()"
   ]
  },
  {
   "cell_type": "code",
   "execution_count": 5,
   "id": "recent-manual",
   "metadata": {},
   "outputs": [],
   "source": [
    "look_back = 20\n",
    "def create_dataset(dataset, look_back):\n",
    "    dataX, dataY = [], []\n",
    "    for i in range(len(dataset)-look_back):\n",
    "        a = dataset[i : (i+look_back)]\n",
    "        dataX.append(a)\n",
    "        dataY.append(dataset[i+look_back])\n",
    "    return np.array(dataX), np.array(dataY)"
   ]
  },
  {
   "cell_type": "code",
   "execution_count": 6,
   "id": "after-terror",
   "metadata": {},
   "outputs": [
    {
     "name": "stdout",
     "output_type": "stream",
     "text": [
      "[ 6110.  5580.  5620. ... 82100. 81700. 81500.]\n"
     ]
    }
   ],
   "source": [
    "nparr = df['Close'].values[0:] \n",
    "nparr.astype('float32')\n",
    "print(nparr)"
   ]
  },
  {
   "cell_type": "code",
   "execution_count": 7,
   "id": "worth-fisher",
   "metadata": {},
   "outputs": [],
   "source": [
    "scaler = MinMaxScaler(feature_range=(0, 1))\n",
    "nparr = nparr.reshape(-1, 1)\n",
    "nptf = scaler.fit_transform(nparr)"
   ]
  },
  {
   "cell_type": "code",
   "execution_count": 8,
   "id": "considerable-blank",
   "metadata": {},
   "outputs": [
    {
     "data": {
      "text/plain": [
       "array([[0.03829161],\n",
       "       [0.0322873 ],\n",
       "       [0.03274046],\n",
       "       ...,\n",
       "       [0.89917299],\n",
       "       [0.89464144],\n",
       "       [0.89237567]])"
      ]
     },
     "execution_count": 8,
     "metadata": {},
     "output_type": "execute_result"
    }
   ],
   "source": [
    "nptf"
   ]
  },
  {
   "cell_type": "code",
   "execution_count": 9,
   "id": "peripheral-chemical",
   "metadata": {},
   "outputs": [],
   "source": [
    "train = nptf"
   ]
  },
  {
   "cell_type": "code",
   "execution_count": 10,
   "id": "logical-variable",
   "metadata": {},
   "outputs": [],
   "source": [
    "trainX, trainY = create_dataset(train, look_back)"
   ]
  },
  {
   "cell_type": "code",
   "execution_count": 11,
   "id": "rural-belle",
   "metadata": {},
   "outputs": [],
   "source": [
    "trainX = np.reshape(trainX, (trainX.shape[0], 1, trainX.shape[1]))"
   ]
  },
  {
   "cell_type": "code",
   "execution_count": 12,
   "id": "chicken-scholar",
   "metadata": {},
   "outputs": [
    {
     "data": {
      "text/plain": [
       "(5336, 1, 20)"
      ]
     },
     "execution_count": 12,
     "metadata": {},
     "output_type": "execute_result"
    }
   ],
   "source": [
    "trainX.shape"
   ]
  },
  {
   "cell_type": "code",
   "execution_count": 13,
   "id": "intense-azerbaijan",
   "metadata": {},
   "outputs": [
    {
     "name": "stdout",
     "output_type": "stream",
     "text": [
      "x_train shape : (4268, 1, 20)\n",
      "x_valid shape : (1068, 1, 20)\n"
     ]
    }
   ],
   "source": [
    "x_train, x_valid, y_train, y_valid = train_test_split(trainX, \n",
    "                                                      trainY, \n",
    "                                                      test_size=0.2)\n",
    "print('x_train shape :', x_train.shape)\n",
    "print('x_valid shape :', x_valid.shape)"
   ]
  },
  {
   "cell_type": "code",
   "execution_count": 14,
   "id": "tired-yahoo",
   "metadata": {
    "scrolled": false
   },
   "outputs": [
    {
     "name": "stdout",
     "output_type": "stream",
     "text": [
      "Model: \"sequential\"\n",
      "_________________________________________________________________\n",
      "Layer (type)                 Output Shape              Param #   \n",
      "=================================================================\n",
      "lstm (LSTM)                  (None, 4)                 400       \n",
      "_________________________________________________________________\n",
      "dense (Dense)                (None, 1)                 5         \n",
      "=================================================================\n",
      "Total params: 405\n",
      "Trainable params: 405\n",
      "Non-trainable params: 0\n",
      "_________________________________________________________________\n"
     ]
    }
   ],
   "source": [
    "model = Sequential()\n",
    "model.add(LSTM(4, input_shape=(1, look_back)))\n",
    "model.add(Dense(1)) \n",
    "model.compile(loss='mean_squared_error', optimizer='adam')\n",
    "model.summary()"
   ]
  },
  {
   "cell_type": "code",
   "execution_count": 15,
   "id": "north-introduction",
   "metadata": {
    "scrolled": false
   },
   "outputs": [
    {
     "name": "stdout",
     "output_type": "stream",
     "text": [
      "Epoch 1/20\n",
      "4268/4268 [==============================] - 19s 4ms/step - loss: 0.0020 - val_loss: 2.5905e-04\n",
      "Epoch 2/20\n",
      "4268/4268 [==============================] - 11s 3ms/step - loss: 2.0873e-04 - val_loss: 1.3834e-04\n",
      "Epoch 3/20\n",
      "4268/4268 [==============================] - 12s 3ms/step - loss: 1.6252e-04 - val_loss: 1.6496e-04\n",
      "Epoch 4/20\n",
      "4268/4268 [==============================] - 11s 3ms/step - loss: 1.2980e-04 - val_loss: 8.3451e-05\n",
      "Epoch 5/20\n",
      "4268/4268 [==============================] - 11s 3ms/step - loss: 1.0282e-04 - val_loss: 9.5939e-05\n",
      "Epoch 6/20\n",
      "4268/4268 [==============================] - 11s 3ms/step - loss: 1.1138e-04 - val_loss: 8.3593e-05\n",
      "Epoch 7/20\n",
      "4268/4268 [==============================] - 11s 3ms/step - loss: 8.7509e-05 - val_loss: 7.2672e-05\n",
      "Epoch 8/20\n",
      "4268/4268 [==============================] - 11s 3ms/step - loss: 9.3352e-05 - val_loss: 8.5154e-05\n",
      "Epoch 9/20\n",
      "4268/4268 [==============================] - 11s 3ms/step - loss: 9.1186e-05 - val_loss: 1.2655e-04\n",
      "Epoch 10/20\n",
      "4268/4268 [==============================] - 11s 3ms/step - loss: 8.4200e-05 - val_loss: 6.0714e-05\n",
      "Epoch 11/20\n",
      "4268/4268 [==============================] - 11s 3ms/step - loss: 1.0010e-04 - val_loss: 9.8375e-05\n",
      "Epoch 12/20\n",
      "4268/4268 [==============================] - 11s 3ms/step - loss: 9.4301e-05 - val_loss: 5.8745e-05\n",
      "Epoch 13/20\n",
      "4268/4268 [==============================] - 11s 3ms/step - loss: 6.9268e-05 - val_loss: 6.4433e-05\n",
      "Epoch 14/20\n",
      "4268/4268 [==============================] - 11s 3ms/step - loss: 9.1705e-05 - val_loss: 1.3515e-04\n",
      "Epoch 15/20\n",
      "4268/4268 [==============================] - 11s 3ms/step - loss: 8.2343e-05 - val_loss: 1.0032e-04\n",
      "Epoch 16/20\n",
      "4268/4268 [==============================] - 11s 3ms/step - loss: 7.6772e-05 - val_loss: 5.7793e-05\n",
      "Epoch 17/20\n",
      "4268/4268 [==============================] - 11s 3ms/step - loss: 8.4590e-05 - val_loss: 7.3164e-05\n",
      "Epoch 18/20\n",
      "4268/4268 [==============================] - 11s 3ms/step - loss: 8.3209e-05 - val_loss: 7.8176e-05\n",
      "Epoch 19/20\n",
      "4268/4268 [==============================] - 11s 3ms/step - loss: 7.4343e-05 - val_loss: 7.5486e-05\n",
      "Epoch 20/20\n",
      "4268/4268 [==============================] - 11s 3ms/step - loss: 7.4707e-05 - val_loss: 6.9489e-05\n"
     ]
    },
    {
     "data": {
      "text/plain": [
       "<tensorflow.python.keras.callbacks.History at 0x2090d08db80>"
      ]
     },
     "execution_count": 15,
     "metadata": {},
     "output_type": "execute_result"
    }
   ],
   "source": [
    "EPOCHS = 20\n",
    "\n",
    "model.fit(x_train, y_train, \n",
    "          epochs=EPOCHS, \n",
    "          batch_size=1,\n",
    "          validation_data=(x_valid, y_valid),\n",
    "          verbose=1)"
   ]
  },
  {
   "cell_type": "code",
   "execution_count": 16,
   "id": "viral-season",
   "metadata": {
    "scrolled": false
   },
   "outputs": [
    {
     "name": "stdout",
     "output_type": "stream",
     "text": [
      "오늘 예측 값은 : [[81722.586]]\n"
     ]
    }
   ],
   "source": [
    "lastX = trainX[-1]\n",
    "lastX = np.reshape(lastX, (1, 1, look_back))\n",
    "lastY = model.predict(lastX)\n",
    "lastY = scaler.inverse_transform(lastY)\n",
    "print(\"오늘 예측 값은 :\", lastY)"
   ]
  },
  {
   "cell_type": "code",
   "execution_count": 17,
   "id": "serial-input",
   "metadata": {},
   "outputs": [
    {
     "name": "stdout",
     "output_type": "stream",
     "text": [
      "오늘 값은\n"
     ]
    },
    {
     "data": {
      "text/plain": [
       "array([81500.])"
      ]
     },
     "execution_count": 17,
     "metadata": {},
     "output_type": "execute_result"
    }
   ],
   "source": [
    "print(\"오늘 값은\")\n",
    "nparr[-1]"
   ]
  },
  {
   "cell_type": "code",
   "execution_count": 18,
   "id": "colored-sigma",
   "metadata": {},
   "outputs": [
    {
     "name": "stdout",
     "output_type": "stream",
     "text": [
      "내일 예측 값은 : [[81458.195]]\n"
     ]
    }
   ],
   "source": [
    "lastX = nptf[-look_back:]\n",
    "lastX = np.reshape(lastX, (1, 1, look_back))\n",
    "lastY = model.predict(lastX)\n",
    "lastY = scaler.inverse_transform(lastY)\n",
    "print(\"내일 예측 값은 :\", lastY)"
   ]
  },
  {
   "cell_type": "code",
   "execution_count": null,
   "id": "vital-aggregate",
   "metadata": {},
   "outputs": [],
   "source": []
  }
 ],
 "metadata": {
  "kernelspec": {
   "display_name": "Python 3",
   "language": "python",
   "name": "python3"
  },
  "language_info": {
   "codemirror_mode": {
    "name": "ipython",
    "version": 3
   },
   "file_extension": ".py",
   "mimetype": "text/x-python",
   "name": "python",
   "nbconvert_exporter": "python",
   "pygments_lexer": "ipython3",
   "version": "3.8.5"
  }
 },
 "nbformat": 4,
 "nbformat_minor": 5
}
